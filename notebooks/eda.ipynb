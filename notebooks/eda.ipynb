{
 "cells": [
  {
   "cell_type": "code",
   "execution_count": null,
   "id": "49a7d5b9",
   "metadata": {},
   "outputs": [],
   "source": []
  },
  {
   "cell_type": "code",
   "execution_count": null,
   "id": "5cb69b2d",
   "metadata": {},
   "outputs": [
    {
     "name": "stdout",
     "output_type": "stream",
     "text": [
      "Successfully loaded and combined 11 AFDC files into a single DF.\n",
      "Total records: 16721\n",
      "Years found: [np.int64(2015), np.int64(2016), np.int64(2017), np.int64(2018), np.int64(2019), np.int64(2020), np.int64(2021), np.int64(2022), np.int64(2023), np.int64(2024), np.int64(2025)]\n",
      "Loaded 676 charging stations.\n",
      "Loaded 47785 road segments.\n",
      "Loaded 29895 shops.\n",
      "Loaded 53416 leisure spots.\n",
      "Loaded 125104 residential buildings.\n",
      "Loaded 145434 amenities.\n"
     ]
    }
   ],
   "source": [
    "'''Step 1:\n",
    "  Conacanate AFDC historical data files into a single DataFrame.\n",
    "    Load cleaned geojson files into GeoDataFrames.\n",
    "'''\n",
    "#Loading cleaned data\n",
    "import pandas as pd\n",
    "import geopandas as gpd\n",
    "import os\n",
    "import glob\n",
    "\n",
    "processed_path = \"../data/processed/\"\n",
    "afdc_files = glob.glob(os.path.join(processed_path, \"alt_fuel_stations_historical_day*.csv\"))\n",
    "\n",
    "if not afdc_files:\n",
    "    raise FileNotFoundError(\"No AFDC historical data files found in the processed data directory.\")\n",
    "\n",
    "#Create a list to hold each year's DataFrame\n",
    "else:\n",
    "    afdc_df_list = []\n",
    "    for file in afdc_files:\n",
    "        try:\n",
    "            year = int(file.split('(')[-1].split(')')[0].split(' ')[-1])\n",
    "            temp_df = pd.read_csv(file)\n",
    "            temp_df['Year'] = year\n",
    "            afdc_df_list.append(temp_df)\n",
    "        except Exception as e:\n",
    "            print(f\"Error processing file {file}: {e}\")\n",
    "\n",
    "#Combine all years into single DataFrame\n",
    "if afdc_df_list:\n",
    "    afdc_data = pd.concat(afdc_df_list, ignore_index=True)\n",
    "    print(f\"Successfully loaded and combined {len(afdc_files)} AFDC files into a single DF.\")\n",
    "    print(f\"Total records: {len(afdc_data)}\")\n",
    "    print(f\"Years found: {sorted(afdc_data['Year'].unique())}\")\n",
    "else:\n",
    "    \n",
    "    print(\"Warning: No data was loaded into the afdc_df_list.\")\n",
    "    afdc_data = pd.DataFrame()\n",
    "\n",
    "#Load geojson data\n",
    "try:\n",
    "    gdf_chargers = gpd.read_file(os.path.join(processed_path, \"chargingStationWashington_cleaned.geojson\"))\n",
    "    gdf_roads = gpd.read_file(os.path.join(processed_path, \"majorRoadsWashington_cleaned.geojson\"))\n",
    "    gdf_shops = gpd.read_file(os.path.join(processed_path, \"shopsWashington_cleaned.geojson\"))\n",
    "    gdf_leisure = gpd.read_file(os.path.join(processed_path, \"leisureWashington_cleaned.geojson\"))\n",
    "    gdf_residential = gpd.read_file(os.path.join(processed_path, \"residentialWashington_cleaned.geojson\"))\n",
    "    gdf_amenities = gpd.read_file(os.path.join(processed_path, \"amenitiesWashington_cleaned.geojson\"))\n",
    "\n",
    "\n",
    "    print(f\"Loaded {len(gdf_chargers)} charging stations.\")\n",
    "    print(f\"Loaded {len(gdf_roads)} road segments.\")\n",
    "    print(f\"Loaded {len(gdf_shops)} shops.\")\n",
    "    print(f\"Loaded {len(gdf_leisure)} leisure spots.\")\n",
    "    print(f\"Loaded {len(gdf_residential)} residential buildings.\")\n",
    "    print(f\"Loaded {len(gdf_amenities)} amenities.\")\n",
    "\n",
    "except FileNotFoundError as e:\n",
    "    print(f\"Error loading files: {e}. Make sure all cleaned files are in the 'processed' directory.\")"
   ]
  },
  {
   "cell_type": "code",
   "execution_count": 6,
   "id": "7b960eb4",
   "metadata": {},
   "outputs": [
    {
     "name": "stdout",
     "output_type": "stream",
     "text": [
      "Combined all POIs into a single dataframe with 353849 records.\n",
      "All GeoDataFrames reprojected to EPSG:32148.\n"
     ]
    }
   ],
   "source": [
    "poi_list = [gdf_shops, gdf_leisure, gdf_residential, gdf_amenities]\n",
    "gdf_pois = pd.concat(poi_list, ignore_index=True)\n",
    "print(f\"Combined all POIs into a single dataframe with {len(gdf_pois)} records.\")\n",
    "\n",
    "#Set CRS (coordinate reference system) to ESPG:32148, Washington's (NAD83) projected CRS\n",
    "target_crs = \"EPSG:32148\"\n",
    "gdf_chargers = gdf_chargers.to_crs(target_crs)\n",
    "gdf_roads = gdf_roads.to_crs(target_crs)\n",
    "gdf_pois = gdf_pois.to_crs(target_crs)\n",
    "\n",
    "print(\"All GeoDataFrames reprojected to EPSG:32148.\")\n"
   ]
  },
  {
   "cell_type": "code",
   "execution_count": null,
   "id": "7851d3cb",
   "metadata": {},
   "outputs": [],
   "source": [
    "\"\"\"\n",
    "Calculating proximity and density metrics, using TQDM, cool side node\n",
    "tqdm's name derives from the Arabic word taqadum which means progress because\n",
    "tqdm is a fast, extensible progress bar for Python and CLI.\"\"\"\n",
    "from tqdm import tqdm\n",
    "tqdm.pandas(desc = \"Calculating distances\")  # Enable tqdm for pandas\n",
    "\n",
    "major_road_types = ['motorway', 'trunk', 'primary', 'secondary']\n",
    "gdf_major_roads = gdf_roads[gdf_roads['highway'].isin(major_road_types)]\n",
    "\n",
    "print(f\"Filtered roads down to {len(gdf_major_roads)} major road segments.\")\n",
    "\n",
    "print(\"Calculating disrtance to nearest highway from charging station\")\n",
    "\"\"\"\n",
    "Code below works like this. Firstly, we add a new column 'dist_to_major_road_m' to gdf_chargers.\n",
    "then we select the geometry key from the gdf_chargers GeoDataFrame, which contains the point geometries of the charging stations.\n",
    "the line progress apply tells pandas to apply a defined function to each point in the geometry column, while also displaying a progress bar using tqdm.\n",
    "lambda point is like an anonymous mini-function that you dont make a funtion for. Then it calculates the distance from point(the charging station)\n",
    "to all geometries in gdf_major_roads using gdf_major_roads.distance(point). min function is there since the function finds distances to all roads\n",
    "in the dataset and we only want the minimum distance, which is the nearest road.\n",
    "\n",
    "\"\"\"\n",
    "gdf_chargers['dist_to_major_road_m'] = gdf_chargers.geometry.progress_apply(\n",
    "    lambda point: gdf_major_roads.distance(point).min()\n",
    ")\n",
    "\n",
    "print(\"Distance to nearest highway calculated.\")\n",
    "\n",
    "print(\"\\n--- Feature Engineering Complete ---\")\n",
    "print(\"first 5 rows of gdf_chargers with new features:\")\n",
    "print(gdf_chargers[['dist_to_major_road_m', 'poi_density_500m']].head())\n"
   ]
  }
 ],
 "metadata": {
  "kernelspec": {
   "display_name": ".venv (3.13.3)",
   "language": "python",
   "name": "python3"
  },
  "language_info": {
   "codemirror_mode": {
    "name": "ipython",
    "version": 3
   },
   "file_extension": ".py",
   "mimetype": "text/x-python",
   "name": "python",
   "nbconvert_exporter": "python",
   "pygments_lexer": "ipython3",
   "version": "3.13.3"
  }
 },
 "nbformat": 4,
 "nbformat_minor": 5
}
